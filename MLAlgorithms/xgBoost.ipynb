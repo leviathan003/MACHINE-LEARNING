{
 "cells": [
  {
   "cell_type": "markdown",
   "metadata": {},
   "source": [
    "1. For small dataset use Exact Greedy Algorithm for Split Finding\n",
    "2. For large dataset use Approximate Algorithm for Split Finding"
   ]
  },
  {
   "cell_type": "code",
   "execution_count": 1,
   "metadata": {},
   "outputs": [],
   "source": [
    "from sklearn.datasets import make_classification\n",
    "from sklearn.model_selection import train_test_split\n",
    "from sklearn.metrics import accuracy_score\n",
    "from sklearn.ensemble import GradientBoostingClassifier\n",
    "import xgboost as xgb\n",
    "import time"
   ]
  },
  {
   "cell_type": "code",
   "execution_count": 2,
   "metadata": {},
   "outputs": [],
   "source": [
    "X,Y = make_classification(n_samples=10000,n_features=200,random_state=42)\n",
    "X_train,X_test,Y_train,Y_test = train_test_split(X,Y,test_size=0.2,random_state=42)"
   ]
  },
  {
   "cell_type": "code",
   "execution_count": 3,
   "metadata": {},
   "outputs": [],
   "source": [
    "gb_model = GradientBoostingClassifier(random_state=42)\n",
    "xgb_model = xgb.XGBClassifier(random_state=42,use_label_encoder=False,eval_metric='logloss')"
   ]
  },
  {
   "cell_type": "code",
   "execution_count": 4,
   "metadata": {},
   "outputs": [],
   "source": [
    "start_gb = time.time()\n",
    "gb_model.fit(X_train,Y_train)\n",
    "end_gb = time.time()\n",
    "gb_time = end_gb-start_gb\n",
    "\n",
    "gb_pred = gb_model.predict(X_test)\n",
    "gb_accuracy = accuracy_score(Y_test,gb_pred)"
   ]
  },
  {
   "cell_type": "code",
   "execution_count": 5,
   "metadata": {},
   "outputs": [],
   "source": [
    "start_xgb = time.time()\n",
    "xgb_model.fit(X_train,Y_train)\n",
    "end_xgb = time.time()\n",
    "xgb_time = end_xgb-start_xgb\n",
    "\n",
    "xgb_pred = xgb_model.predict(X_test)\n",
    "xgb_accuracy = accuracy_score(Y_test,xgb_pred)"
   ]
  },
  {
   "cell_type": "code",
   "execution_count": 9,
   "metadata": {},
   "outputs": [
    {
     "name": "stdout",
     "output_type": "stream",
     "text": [
      "time taken by gradient boosting:  143.69252157211304\n",
      "accuracy of gradient boosting:  0.9325\n",
      "time taken by xgboost:  12.736475229263306\n",
      "accuracy of xgboost:  0.935\n"
     ]
    }
   ],
   "source": [
    "print(\"time taken by gradient boosting: \",gb_time)\n",
    "print(\"accuracy of gradient boosting: \",gb_accuracy)\n",
    "print(\"time taken by xgboost: \",xgb_time)\n",
    "print(\"accuracy of xgboost: \",xgb_accuracy)"
   ]
  }
 ],
 "metadata": {
  "kernelspec": {
   "display_name": "Python 3",
   "language": "python",
   "name": "python3"
  },
  "language_info": {
   "codemirror_mode": {
    "name": "ipython",
    "version": 3
   },
   "file_extension": ".py",
   "mimetype": "text/x-python",
   "name": "python",
   "nbconvert_exporter": "python",
   "pygments_lexer": "ipython3",
   "version": "3.11.3"
  }
 },
 "nbformat": 4,
 "nbformat_minor": 2
}
